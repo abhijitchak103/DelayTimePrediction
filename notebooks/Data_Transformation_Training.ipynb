{
 "cells": [
  {
   "cell_type": "code",
   "execution_count": 1,
   "id": "39024c26",
   "metadata": {},
   "outputs": [],
   "source": [
    "import pandas as pd\n",
    "import numpy as np\n",
    "from sklearn.preprocessing import StandardScaler, OrdinalEncoder, OneHotEncoder\n",
    "from sklearn.impute import SimpleImputer\n",
    "from sklearn.pipeline import Pipeline\n",
    "from sklearn.compose import ColumnTransformer"
   ]
  },
  {
   "cell_type": "code",
   "execution_count": 2,
   "id": "aea9750c",
   "metadata": {},
   "outputs": [],
   "source": [
    "data_df = pd.read_csv('./data/data_cleaned.csv')"
   ]
  },
  {
   "cell_type": "code",
   "execution_count": 3,
   "id": "4e02363b",
   "metadata": {},
   "outputs": [
    {
     "data": {
      "text/html": [
       "<div>\n",
       "<style scoped>\n",
       "    .dataframe tbody tr th:only-of-type {\n",
       "        vertical-align: middle;\n",
       "    }\n",
       "\n",
       "    .dataframe tbody tr th {\n",
       "        vertical-align: top;\n",
       "    }\n",
       "\n",
       "    .dataframe thead th {\n",
       "        text-align: right;\n",
       "    }\n",
       "</style>\n",
       "<table border=\"1\" class=\"dataframe\">\n",
       "  <thead>\n",
       "    <tr style=\"text-align: right;\">\n",
       "      <th></th>\n",
       "      <th>Delivery_person_Age</th>\n",
       "      <th>Delivery_person_Ratings</th>\n",
       "      <th>Weather_conditions</th>\n",
       "      <th>Road_traffic_density</th>\n",
       "      <th>Vehicle_condition</th>\n",
       "      <th>Type_of_order</th>\n",
       "      <th>Type_of_vehicle</th>\n",
       "      <th>multiple_deliveries</th>\n",
       "      <th>Festival</th>\n",
       "      <th>City</th>\n",
       "      <th>Time_taken (min)</th>\n",
       "      <th>Delivery_distance</th>\n",
       "      <th>Time_to_pick</th>\n",
       "      <th>Day</th>\n",
       "      <th>Month</th>\n",
       "      <th>Time_of_Day_Ordered</th>\n",
       "    </tr>\n",
       "  </thead>\n",
       "  <tbody>\n",
       "    <tr>\n",
       "      <th>0</th>\n",
       "      <td>36.0</td>\n",
       "      <td>4.2</td>\n",
       "      <td>Fog</td>\n",
       "      <td>Jam</td>\n",
       "      <td>2</td>\n",
       "      <td>Snack</td>\n",
       "      <td>motorcycle</td>\n",
       "      <td>3.0</td>\n",
       "      <td>No</td>\n",
       "      <td>DEH</td>\n",
       "      <td>46</td>\n",
       "      <td>10.28</td>\n",
       "      <td>15.0</td>\n",
       "      <td>2</td>\n",
       "      <td>12</td>\n",
       "      <td>Night</td>\n",
       "    </tr>\n",
       "    <tr>\n",
       "      <th>1</th>\n",
       "      <td>21.0</td>\n",
       "      <td>4.7</td>\n",
       "      <td>Stormy</td>\n",
       "      <td>High</td>\n",
       "      <td>1</td>\n",
       "      <td>Meal</td>\n",
       "      <td>motorcycle</td>\n",
       "      <td>1.0</td>\n",
       "      <td>No</td>\n",
       "      <td>KOC</td>\n",
       "      <td>23</td>\n",
       "      <td>6.24</td>\n",
       "      <td>9.6</td>\n",
       "      <td>13</td>\n",
       "      <td>2</td>\n",
       "      <td>Evening</td>\n",
       "    </tr>\n",
       "    <tr>\n",
       "      <th>2</th>\n",
       "      <td>23.0</td>\n",
       "      <td>4.7</td>\n",
       "      <td>Sandstorms</td>\n",
       "      <td>Medium</td>\n",
       "      <td>1</td>\n",
       "      <td>Drinks</td>\n",
       "      <td>scooter</td>\n",
       "      <td>1.0</td>\n",
       "      <td>No</td>\n",
       "      <td>PUNE</td>\n",
       "      <td>21</td>\n",
       "      <td>13.79</td>\n",
       "      <td>10.2</td>\n",
       "      <td>3</td>\n",
       "      <td>4</td>\n",
       "      <td>Evening</td>\n",
       "    </tr>\n",
       "    <tr>\n",
       "      <th>3</th>\n",
       "      <td>34.0</td>\n",
       "      <td>4.3</td>\n",
       "      <td>Sandstorms</td>\n",
       "      <td>Low</td>\n",
       "      <td>0</td>\n",
       "      <td>Buffet</td>\n",
       "      <td>motorcycle</td>\n",
       "      <td>0.0</td>\n",
       "      <td>No</td>\n",
       "      <td>LUDH</td>\n",
       "      <td>20</td>\n",
       "      <td>2.93</td>\n",
       "      <td>10.2</td>\n",
       "      <td>13</td>\n",
       "      <td>2</td>\n",
       "      <td>Morning</td>\n",
       "    </tr>\n",
       "    <tr>\n",
       "      <th>4</th>\n",
       "      <td>24.0</td>\n",
       "      <td>4.7</td>\n",
       "      <td>Fog</td>\n",
       "      <td>Jam</td>\n",
       "      <td>1</td>\n",
       "      <td>Snack</td>\n",
       "      <td>scooter</td>\n",
       "      <td>1.0</td>\n",
       "      <td>No</td>\n",
       "      <td>KNP</td>\n",
       "      <td>41</td>\n",
       "      <td>19.40</td>\n",
       "      <td>15.0</td>\n",
       "      <td>14</td>\n",
       "      <td>2</td>\n",
       "      <td>Night</td>\n",
       "    </tr>\n",
       "  </tbody>\n",
       "</table>\n",
       "</div>"
      ],
      "text/plain": [
       "   Delivery_person_Age  Delivery_person_Ratings Weather_conditions  \\\n",
       "0                 36.0                      4.2                Fog   \n",
       "1                 21.0                      4.7             Stormy   \n",
       "2                 23.0                      4.7         Sandstorms   \n",
       "3                 34.0                      4.3         Sandstorms   \n",
       "4                 24.0                      4.7                Fog   \n",
       "\n",
       "  Road_traffic_density  Vehicle_condition Type_of_order Type_of_vehicle  \\\n",
       "0                  Jam                  2         Snack      motorcycle   \n",
       "1                 High                  1          Meal      motorcycle   \n",
       "2               Medium                  1        Drinks         scooter   \n",
       "3                  Low                  0        Buffet      motorcycle   \n",
       "4                  Jam                  1         Snack         scooter   \n",
       "\n",
       "   multiple_deliveries Festival  City  Time_taken (min)  Delivery_distance  \\\n",
       "0                  3.0       No   DEH                46              10.28   \n",
       "1                  1.0       No   KOC                23               6.24   \n",
       "2                  1.0       No  PUNE                21              13.79   \n",
       "3                  0.0       No  LUDH                20               2.93   \n",
       "4                  1.0       No   KNP                41              19.40   \n",
       "\n",
       "   Time_to_pick  Day  Month Time_of_Day_Ordered  \n",
       "0          15.0    2     12               Night  \n",
       "1           9.6   13      2             Evening  \n",
       "2          10.2    3      4             Evening  \n",
       "3          10.2   13      2             Morning  \n",
       "4          15.0   14      2               Night  "
      ]
     },
     "execution_count": 3,
     "metadata": {},
     "output_type": "execute_result"
    }
   ],
   "source": [
    "data_df.head()"
   ]
  },
  {
   "cell_type": "code",
   "execution_count": 4,
   "id": "2cd9b22d",
   "metadata": {},
   "outputs": [],
   "source": [
    "data_df.drop(columns = 'Day', axis = 1, inplace = True)"
   ]
  },
  {
   "cell_type": "markdown",
   "id": "70f46feb",
   "metadata": {},
   "source": [
    "One Hot Encode the categorical features as they do not have any inherent ordinality."
   ]
  },
  {
   "cell_type": "code",
   "execution_count": 5,
   "id": "fc763559",
   "metadata": {},
   "outputs": [
    {
     "data": {
      "text/plain": [
       "array(['No', 'Yes'], dtype=object)"
      ]
     },
     "execution_count": 5,
     "metadata": {},
     "output_type": "execute_result"
    }
   ],
   "source": [
    "data_df.Festival.unique()"
   ]
  },
  {
   "cell_type": "code",
   "execution_count": 6,
   "id": "43dc36bc",
   "metadata": {
    "scrolled": true
   },
   "outputs": [],
   "source": [
    "festival = {'No': 0, 'Yes': 1}\n",
    "months = {1: 'Jan',\n",
    "          2: 'Feb',\n",
    "          3: 'Mar',\n",
    "          4: 'Apr',\n",
    "          5: 'May',\n",
    "          6: 'Jun',\n",
    "          7: 'Jul',\n",
    "          8: 'Aug',\n",
    "          9: 'Sep',\n",
    "          10: 'Oct',\n",
    "          11: 'Nov',\n",
    "          12: 'Dec'}\n",
    "\n",
    "data_df.replace({\"Festival\": festival}, inplace=True)\n",
    "data_df.replace({\"Month\": months}, inplace=True)"
   ]
  },
  {
   "cell_type": "code",
   "execution_count": 7,
   "id": "2468f473",
   "metadata": {},
   "outputs": [
    {
     "name": "stdout",
     "output_type": "stream",
     "text": [
      "<class 'pandas.core.frame.DataFrame'>\n",
      "RangeIndex: 33378 entries, 0 to 33377\n",
      "Data columns (total 15 columns):\n",
      " #   Column                   Non-Null Count  Dtype  \n",
      "---  ------                   --------------  -----  \n",
      " 0   Delivery_person_Age      33378 non-null  float64\n",
      " 1   Delivery_person_Ratings  33378 non-null  float64\n",
      " 2   Weather_conditions       33378 non-null  object \n",
      " 3   Road_traffic_density     33378 non-null  object \n",
      " 4   Vehicle_condition        33378 non-null  int64  \n",
      " 5   Type_of_order            33378 non-null  object \n",
      " 6   Type_of_vehicle          33378 non-null  object \n",
      " 7   multiple_deliveries      33378 non-null  float64\n",
      " 8   Festival                 33378 non-null  int64  \n",
      " 9   City                     33378 non-null  object \n",
      " 10  Time_taken (min)         33378 non-null  int64  \n",
      " 11  Delivery_distance        33378 non-null  float64\n",
      " 12  Time_to_pick             33378 non-null  float64\n",
      " 13  Month                    33378 non-null  object \n",
      " 14  Time_of_Day_Ordered      33378 non-null  object \n",
      "dtypes: float64(5), int64(3), object(7)\n",
      "memory usage: 3.8+ MB\n"
     ]
    }
   ],
   "source": [
    "data_df.info()"
   ]
  },
  {
   "cell_type": "code",
   "execution_count": 8,
   "id": "c20a3cbf",
   "metadata": {},
   "outputs": [],
   "source": [
    "num_columns = ['Delivery_person_Age', 'Delivery_person_Ratings', 'Vehicle_condition', 'Festival',\n",
    "               'multiple_deliveries', 'Delivery_distance', 'Time_to_pick']\n",
    "\n",
    "cat_columns = ['Weather_conditions', 'Road_traffic_density', 'Type_of_order', \n",
    "              'Type_of_vehicle', 'City', 'Time_of_Day_Ordered', 'Month']"
   ]
  },
  {
   "cell_type": "code",
   "execution_count": 9,
   "id": "cf11d231",
   "metadata": {},
   "outputs": [],
   "source": [
    "X = data_df.drop(columns = 'Time_taken (min)')\n",
    "y = data_df[['Time_taken (min)']]"
   ]
  },
  {
   "cell_type": "code",
   "execution_count": 15,
   "id": "75f010e6",
   "metadata": {},
   "outputs": [],
   "source": [
    "num_pipeline = Pipeline(\n",
    "    steps = [\n",
    "        (\"Imputer\", SimpleImputer(strategy = 'median')),\n",
    "        (\"Scaler\", StandardScaler(with_mean=False))\n",
    "    ]\n",
    ")\n",
    "\n",
    "cat_pipeline = Pipeline(\n",
    "    steps = [\n",
    "        (\"Imputer\", SimpleImputer(strategy='most_frequent')),\n",
    "        (\"Encoder\", OneHotEncoder(drop = 'first', handle_unknown='ignore')),\n",
    "        (\"Scaler\", StandardScaler(with_mean=False))\n",
    "    ]\n",
    ")"
   ]
  },
  {
   "cell_type": "code",
   "execution_count": 16,
   "id": "6d4fbe35",
   "metadata": {},
   "outputs": [],
   "source": [
    "preprocessor = ColumnTransformer(\n",
    "    [\n",
    "        (\"Numerical_Pipeline\", num_pipeline, num_columns),\n",
    "        (\"Categorical_Pipeline\", cat_pipeline, cat_columns)\n",
    "    ]\n",
    ")"
   ]
  },
  {
   "cell_type": "code",
   "execution_count": 31,
   "id": "b5863ab3",
   "metadata": {},
   "outputs": [],
   "source": [
    "# Imports for Model Training and Preparation\n",
    "\n",
    "from sklearn.linear_model import LinearRegression, Ridge, Lasso, ElasticNet\n",
    "from sklearn.metrics import r2_score, mean_absolute_error, mean_squared_error\n",
    "from sklearn.model_selection import train_test_split"
   ]
  },
  {
   "cell_type": "code",
   "execution_count": 44,
   "id": "cbfdb5c0",
   "metadata": {},
   "outputs": [],
   "source": [
    "X_train, X_test, y_train, y_test = train_test_split(X, y, test_size=0.2, random_state=1)"
   ]
  },
  {
   "cell_type": "code",
   "execution_count": 41,
   "id": "120a73dd",
   "metadata": {},
   "outputs": [],
   "source": [
    "X_train_ = pd.DataFrame(preprocessor.fit_transform(X_train_), columns = preprocessor.)"
   ]
  },
  {
   "cell_type": "code",
   "execution_count": 45,
   "id": "447e1f2e",
   "metadata": {},
   "outputs": [],
   "source": [
    "X_train_ = X_train.head()"
   ]
  },
  {
   "cell_type": "code",
   "execution_count": 47,
   "id": "62ca78c6",
   "metadata": {},
   "outputs": [],
   "source": [
    "X_train_ = preprocessor.fit_transform(X_train_)"
   ]
  },
  {
   "cell_type": "code",
   "execution_count": 51,
   "id": "3cd738f9",
   "metadata": {},
   "outputs": [
    {
     "data": {
      "text/plain": [
       "(26702, 14)"
      ]
     },
     "execution_count": 51,
     "metadata": {},
     "output_type": "execute_result"
    }
   ],
   "source": [
    "X_train.shape"
   ]
  },
  {
   "cell_type": "code",
   "execution_count": 57,
   "id": "c020fa96",
   "metadata": {},
   "outputs": [
    {
     "ename": "AttributeError",
     "evalue": "Estimator Imputer does not provide get_feature_names_out. Did you mean to call pipeline[:-1].get_feature_names_out()?",
     "output_type": "error",
     "traceback": [
      "\u001b[1;31m---------------------------------------------------------------------------\u001b[0m",
      "\u001b[1;31mAttributeError\u001b[0m                            Traceback (most recent call last)",
      "\u001b[1;32m~\\AppData\\Local\\Temp\\ipykernel_7632\\702952812.py\u001b[0m in \u001b[0;36m<module>\u001b[1;34m\u001b[0m\n\u001b[1;32m----> 1\u001b[1;33m \u001b[0mpreprocessor\u001b[0m\u001b[1;33m.\u001b[0m\u001b[0mnamed_transformers_\u001b[0m\u001b[1;33m.\u001b[0m\u001b[0mCategorical_Pipeline\u001b[0m\u001b[1;33m.\u001b[0m\u001b[0mget_feature_names_out\u001b[0m\u001b[1;33m(\u001b[0m\u001b[1;33m)\u001b[0m\u001b[1;33m\u001b[0m\u001b[1;33m\u001b[0m\u001b[0m\n\u001b[0m",
      "\u001b[1;32m~\\anaconda3\\lib\\site-packages\\sklearn\\pipeline.py\u001b[0m in \u001b[0;36mget_feature_names_out\u001b[1;34m(self, input_features)\u001b[0m\n\u001b[0;32m    749\u001b[0m         \u001b[1;32mfor\u001b[0m \u001b[0m_\u001b[0m\u001b[1;33m,\u001b[0m \u001b[0mname\u001b[0m\u001b[1;33m,\u001b[0m \u001b[0mtransform\u001b[0m \u001b[1;32min\u001b[0m \u001b[0mself\u001b[0m\u001b[1;33m.\u001b[0m\u001b[0m_iter\u001b[0m\u001b[1;33m(\u001b[0m\u001b[1;33m)\u001b[0m\u001b[1;33m:\u001b[0m\u001b[1;33m\u001b[0m\u001b[1;33m\u001b[0m\u001b[0m\n\u001b[0;32m    750\u001b[0m             \u001b[1;32mif\u001b[0m \u001b[1;32mnot\u001b[0m \u001b[0mhasattr\u001b[0m\u001b[1;33m(\u001b[0m\u001b[0mtransform\u001b[0m\u001b[1;33m,\u001b[0m \u001b[1;34m\"get_feature_names_out\"\u001b[0m\u001b[1;33m)\u001b[0m\u001b[1;33m:\u001b[0m\u001b[1;33m\u001b[0m\u001b[1;33m\u001b[0m\u001b[0m\n\u001b[1;32m--> 751\u001b[1;33m                 raise AttributeError(\n\u001b[0m\u001b[0;32m    752\u001b[0m                     \u001b[1;34m\"Estimator {} does not provide get_feature_names_out. \"\u001b[0m\u001b[1;33m\u001b[0m\u001b[1;33m\u001b[0m\u001b[0m\n\u001b[0;32m    753\u001b[0m                     \u001b[1;34m\"Did you mean to call pipeline[:-1].get_feature_names_out\"\u001b[0m\u001b[1;33m\u001b[0m\u001b[1;33m\u001b[0m\u001b[0m\n",
      "\u001b[1;31mAttributeError\u001b[0m: Estimator Imputer does not provide get_feature_names_out. Did you mean to call pipeline[:-1].get_feature_names_out()?"
     ]
    }
   ],
   "source": [
    "preprocessor.named_transformers_.Categorical_Pipeline.get_feature_names_out()"
   ]
  },
  {
   "cell_type": "code",
   "execution_count": 50,
   "id": "b2d5b414",
   "metadata": {},
   "outputs": [
    {
     "data": {
      "text/plain": [
       "array([[ 7.24711793, 14.94035762,  1.33630621,  0.        ,  2.04124145,\n",
       "         4.53687634,  1.23678483,  0.        ,  2.04124145,  0.        ,\n",
       "         2.5       ,  0.        ,  0.        ,  2.04124145,  0.        ,\n",
       "         0.        ,  0.        ,  0.        ,  2.5       ,  2.04124145,\n",
       "         2.04124145,  0.        ],\n",
       "       [ 6.68964732, 14.94035762,  2.67261242,  0.        ,  2.04124145,\n",
       "         2.29455506,  2.47356966,  0.        ,  0.        ,  0.        ,\n",
       "         0.        ,  0.        ,  0.        ,  0.        ,  0.        ,\n",
       "         0.        ,  2.5       ,  0.        ,  0.        ,  0.        ,\n",
       "         2.04124145,  0.        ],\n",
       "       [ 6.13217671, 13.74512901,  1.33630621,  0.        ,  0.        ,\n",
       "         2.34678883,  1.39138293,  2.04124145,  0.        ,  2.04124145,\n",
       "         0.        ,  0.        ,  2.04124145,  2.04124145,  0.        ,\n",
       "         2.5       ,  0.        ,  0.        ,  0.        ,  0.        ,\n",
       "         0.        ,  2.5       ],\n",
       "       [ 6.13217671, 12.25109325,  0.        ,  0.        ,  2.04124145,\n",
       "         4.46971863,  1.39138293,  2.04124145,  0.        ,  2.04124145,\n",
       "         0.        ,  0.        ,  2.04124145,  2.04124145,  0.        ,\n",
       "         0.        ,  0.        ,  0.        ,  0.        ,  2.04124145,\n",
       "         0.        ,  0.        ],\n",
       "       [ 4.27394134, 14.34274331,  2.67261242,  0.        ,  0.        ,\n",
       "         3.95111188,  3.86495259,  0.        ,  2.04124145,  0.        ,\n",
       "         0.        ,  2.5       ,  0.        ,  0.        ,  2.5       ,\n",
       "         0.        ,  0.        ,  2.5       ,  0.        ,  2.04124145,\n",
       "         0.        ,  0.        ]])"
      ]
     },
     "execution_count": 50,
     "metadata": {},
     "output_type": "execute_result"
    }
   ],
   "source": [
    "X_train_"
   ]
  },
  {
   "cell_type": "code",
   "execution_count": null,
   "id": "45fcc70b",
   "metadata": {},
   "outputs": [],
   "source": []
  }
 ],
 "metadata": {
  "kernelspec": {
   "display_name": "Python 3 (ipykernel)",
   "language": "python",
   "name": "python3"
  },
  "language_info": {
   "codemirror_mode": {
    "name": "ipython",
    "version": 3
   },
   "file_extension": ".py",
   "mimetype": "text/x-python",
   "name": "python",
   "nbconvert_exporter": "python",
   "pygments_lexer": "ipython3",
   "version": "3.9.13"
  }
 },
 "nbformat": 4,
 "nbformat_minor": 5
}
