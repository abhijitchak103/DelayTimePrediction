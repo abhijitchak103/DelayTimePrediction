{
 "cells": [
  {
   "cell_type": "code",
   "execution_count": 1,
   "id": "39024c26",
   "metadata": {},
   "outputs": [],
   "source": [
    "import pandas as pd\n",
    "import numpy as np\n",
    "from sklearn.preprocessing import StandardScaler, OrdinalEncoder, OneHotEncoder\n",
    "from sklearn.impute import SimpleImputer\n",
    "from sklearn.pipeline import Pipeline\n",
    "from sklearn.compose import ColumnTransformer"
   ]
  },
  {
   "cell_type": "code",
   "execution_count": 12,
   "id": "aea9750c",
   "metadata": {},
   "outputs": [],
   "source": [
    "data_df = pd.read_csv('./data/data_cleaned.csv')"
   ]
  },
  {
   "cell_type": "code",
   "execution_count": 13,
   "id": "4e02363b",
   "metadata": {},
   "outputs": [
    {
     "data": {
      "text/html": [
       "<div>\n",
       "<style scoped>\n",
       "    .dataframe tbody tr th:only-of-type {\n",
       "        vertical-align: middle;\n",
       "    }\n",
       "\n",
       "    .dataframe tbody tr th {\n",
       "        vertical-align: top;\n",
       "    }\n",
       "\n",
       "    .dataframe thead th {\n",
       "        text-align: right;\n",
       "    }\n",
       "</style>\n",
       "<table border=\"1\" class=\"dataframe\">\n",
       "  <thead>\n",
       "    <tr style=\"text-align: right;\">\n",
       "      <th></th>\n",
       "      <th>Delivery_person_Age</th>\n",
       "      <th>Delivery_person_Ratings</th>\n",
       "      <th>Weather_conditions</th>\n",
       "      <th>Road_traffic_density</th>\n",
       "      <th>Vehicle_condition</th>\n",
       "      <th>Type_of_order</th>\n",
       "      <th>Type_of_vehicle</th>\n",
       "      <th>multiple_deliveries</th>\n",
       "      <th>Festival</th>\n",
       "      <th>City</th>\n",
       "      <th>Time_taken (min)</th>\n",
       "      <th>Delivery_distance</th>\n",
       "      <th>Time_to_pick</th>\n",
       "      <th>Day</th>\n",
       "      <th>Month</th>\n",
       "      <th>Time_of_Day_Ordered</th>\n",
       "    </tr>\n",
       "  </thead>\n",
       "  <tbody>\n",
       "    <tr>\n",
       "      <th>0</th>\n",
       "      <td>36.0</td>\n",
       "      <td>4.2</td>\n",
       "      <td>Fog</td>\n",
       "      <td>Jam</td>\n",
       "      <td>2</td>\n",
       "      <td>Snack</td>\n",
       "      <td>motorcycle</td>\n",
       "      <td>3.0</td>\n",
       "      <td>No</td>\n",
       "      <td>DEH</td>\n",
       "      <td>46</td>\n",
       "      <td>10.28</td>\n",
       "      <td>15.0</td>\n",
       "      <td>2</td>\n",
       "      <td>12</td>\n",
       "      <td>Night</td>\n",
       "    </tr>\n",
       "    <tr>\n",
       "      <th>1</th>\n",
       "      <td>21.0</td>\n",
       "      <td>4.7</td>\n",
       "      <td>Stormy</td>\n",
       "      <td>High</td>\n",
       "      <td>1</td>\n",
       "      <td>Meal</td>\n",
       "      <td>motorcycle</td>\n",
       "      <td>1.0</td>\n",
       "      <td>No</td>\n",
       "      <td>KOC</td>\n",
       "      <td>23</td>\n",
       "      <td>6.24</td>\n",
       "      <td>9.6</td>\n",
       "      <td>13</td>\n",
       "      <td>2</td>\n",
       "      <td>Evening</td>\n",
       "    </tr>\n",
       "    <tr>\n",
       "      <th>2</th>\n",
       "      <td>23.0</td>\n",
       "      <td>4.7</td>\n",
       "      <td>Sandstorms</td>\n",
       "      <td>Medium</td>\n",
       "      <td>1</td>\n",
       "      <td>Drinks</td>\n",
       "      <td>scooter</td>\n",
       "      <td>1.0</td>\n",
       "      <td>No</td>\n",
       "      <td>PUNE</td>\n",
       "      <td>21</td>\n",
       "      <td>13.79</td>\n",
       "      <td>10.2</td>\n",
       "      <td>3</td>\n",
       "      <td>4</td>\n",
       "      <td>Evening</td>\n",
       "    </tr>\n",
       "    <tr>\n",
       "      <th>3</th>\n",
       "      <td>34.0</td>\n",
       "      <td>4.3</td>\n",
       "      <td>Sandstorms</td>\n",
       "      <td>Low</td>\n",
       "      <td>0</td>\n",
       "      <td>Buffet</td>\n",
       "      <td>motorcycle</td>\n",
       "      <td>0.0</td>\n",
       "      <td>No</td>\n",
       "      <td>LUDH</td>\n",
       "      <td>20</td>\n",
       "      <td>2.93</td>\n",
       "      <td>10.2</td>\n",
       "      <td>13</td>\n",
       "      <td>2</td>\n",
       "      <td>Morning</td>\n",
       "    </tr>\n",
       "    <tr>\n",
       "      <th>4</th>\n",
       "      <td>24.0</td>\n",
       "      <td>4.7</td>\n",
       "      <td>Fog</td>\n",
       "      <td>Jam</td>\n",
       "      <td>1</td>\n",
       "      <td>Snack</td>\n",
       "      <td>scooter</td>\n",
       "      <td>1.0</td>\n",
       "      <td>No</td>\n",
       "      <td>KNP</td>\n",
       "      <td>41</td>\n",
       "      <td>19.40</td>\n",
       "      <td>15.0</td>\n",
       "      <td>14</td>\n",
       "      <td>2</td>\n",
       "      <td>Night</td>\n",
       "    </tr>\n",
       "  </tbody>\n",
       "</table>\n",
       "</div>"
      ],
      "text/plain": [
       "   Delivery_person_Age  Delivery_person_Ratings Weather_conditions   \n",
       "0                 36.0                      4.2                Fog  \\\n",
       "1                 21.0                      4.7             Stormy   \n",
       "2                 23.0                      4.7         Sandstorms   \n",
       "3                 34.0                      4.3         Sandstorms   \n",
       "4                 24.0                      4.7                Fog   \n",
       "\n",
       "  Road_traffic_density  Vehicle_condition Type_of_order Type_of_vehicle   \n",
       "0                  Jam                  2         Snack      motorcycle  \\\n",
       "1                 High                  1          Meal      motorcycle   \n",
       "2               Medium                  1        Drinks         scooter   \n",
       "3                  Low                  0        Buffet      motorcycle   \n",
       "4                  Jam                  1         Snack         scooter   \n",
       "\n",
       "   multiple_deliveries Festival  City  Time_taken (min)  Delivery_distance   \n",
       "0                  3.0       No   DEH                46              10.28  \\\n",
       "1                  1.0       No   KOC                23               6.24   \n",
       "2                  1.0       No  PUNE                21              13.79   \n",
       "3                  0.0       No  LUDH                20               2.93   \n",
       "4                  1.0       No   KNP                41              19.40   \n",
       "\n",
       "   Time_to_pick  Day  Month Time_of_Day_Ordered  \n",
       "0          15.0    2     12               Night  \n",
       "1           9.6   13      2             Evening  \n",
       "2          10.2    3      4             Evening  \n",
       "3          10.2   13      2             Morning  \n",
       "4          15.0   14      2               Night  "
      ]
     },
     "execution_count": 13,
     "metadata": {},
     "output_type": "execute_result"
    }
   ],
   "source": [
    "data_df.head()"
   ]
  },
  {
   "cell_type": "code",
   "execution_count": 14,
   "id": "2cd9b22d",
   "metadata": {},
   "outputs": [],
   "source": [
    "data_df.drop(columns = 'Day', axis = 1, inplace = True)"
   ]
  },
  {
   "cell_type": "markdown",
   "id": "70f46feb",
   "metadata": {},
   "source": [
    "One Hot Encode the categorical features as they do not have any inherent ordinality."
   ]
  },
  {
   "cell_type": "code",
   "execution_count": 15,
   "id": "fc763559",
   "metadata": {},
   "outputs": [
    {
     "data": {
      "text/plain": [
       "array(['No', 'Yes'], dtype=object)"
      ]
     },
     "execution_count": 15,
     "metadata": {},
     "output_type": "execute_result"
    }
   ],
   "source": [
    "data_df.Festival.unique()"
   ]
  },
  {
   "cell_type": "code",
   "execution_count": 16,
   "id": "43dc36bc",
   "metadata": {
    "scrolled": true
   },
   "outputs": [],
   "source": [
    "festival = {'No': 0, 'Yes': 1}\n",
    "months = {1: 'Jan',\n",
    "          2: 'Feb',\n",
    "          3: 'Mar',\n",
    "          4: 'Apr',\n",
    "          5: 'May',\n",
    "          6: 'Jun',\n",
    "          7: 'Jul',\n",
    "          8: 'Aug',\n",
    "          9: 'Sep',\n",
    "          10: 'Oct',\n",
    "          11: 'Nov',\n",
    "          12: 'Dec'}\n",
    "\n",
    "data_df.replace({\"Festival\": festival}, inplace=True)\n",
    "data_df.replace({\"Month\": months}, inplace=True)"
   ]
  },
  {
   "cell_type": "code",
   "execution_count": 17,
   "id": "2468f473",
   "metadata": {},
   "outputs": [
    {
     "name": "stdout",
     "output_type": "stream",
     "text": [
      "<class 'pandas.core.frame.DataFrame'>\n",
      "RangeIndex: 33378 entries, 0 to 33377\n",
      "Data columns (total 15 columns):\n",
      " #   Column                   Non-Null Count  Dtype  \n",
      "---  ------                   --------------  -----  \n",
      " 0   Delivery_person_Age      33378 non-null  float64\n",
      " 1   Delivery_person_Ratings  33378 non-null  float64\n",
      " 2   Weather_conditions       33378 non-null  object \n",
      " 3   Road_traffic_density     33378 non-null  object \n",
      " 4   Vehicle_condition        33378 non-null  int64  \n",
      " 5   Type_of_order            33378 non-null  object \n",
      " 6   Type_of_vehicle          33378 non-null  object \n",
      " 7   multiple_deliveries      33378 non-null  float64\n",
      " 8   Festival                 33378 non-null  int64  \n",
      " 9   City                     33378 non-null  object \n",
      " 10  Time_taken (min)         33378 non-null  int64  \n",
      " 11  Delivery_distance        33378 non-null  float64\n",
      " 12  Time_to_pick             33378 non-null  float64\n",
      " 13  Month                    33378 non-null  object \n",
      " 14  Time_of_Day_Ordered      33378 non-null  object \n",
      "dtypes: float64(5), int64(3), object(7)\n",
      "memory usage: 3.8+ MB\n"
     ]
    }
   ],
   "source": [
    "data_df.info()"
   ]
  },
  {
   "cell_type": "code",
   "execution_count": 7,
   "id": "c20a3cbf",
   "metadata": {},
   "outputs": [],
   "source": [
    "num_columns = ['Delivery_person_Age', 'Delivery_person_Ratings', 'Vehicle_condition', 'Festival',\n",
    "               'multiple_deliveries', 'Delivery_distance', 'Time_to_pick']\n",
    "\n",
    "cat_columns = ['Weather_conditions', 'Road_traffic_density', 'Type_of_order', \n",
    "              'Type_of_vehicle', 'City', 'Time_of_Day_Ordered', 'Month']"
   ]
  },
  {
   "cell_type": "code",
   "execution_count": 20,
   "id": "5597e597",
   "metadata": {},
   "outputs": [
    {
     "name": "stdout",
     "output_type": "stream",
     "text": [
      "<class 'pandas.core.frame.DataFrame'>\n",
      "RangeIndex: 33378 entries, 0 to 33377\n",
      "Data columns (total 62 columns):\n",
      " #   Column                            Non-Null Count  Dtype  \n",
      "---  ------                            --------------  -----  \n",
      " 0   Delivery_person_Age               33378 non-null  float64\n",
      " 1   Delivery_person_Ratings           33378 non-null  float64\n",
      " 2   Vehicle_condition                 33378 non-null  int64  \n",
      " 3   multiple_deliveries               33378 non-null  float64\n",
      " 4   Festival                          33378 non-null  int64  \n",
      " 5   Time_taken (min)                  33378 non-null  int64  \n",
      " 6   Delivery_distance                 33378 non-null  float64\n",
      " 7   Time_to_pick                      33378 non-null  float64\n",
      " 8   Weather_conditions_Cloudy         33378 non-null  float64\n",
      " 9   Weather_conditions_Fog            33378 non-null  float64\n",
      " 10  Weather_conditions_Sandstorms     33378 non-null  float64\n",
      " 11  Weather_conditions_Stormy         33378 non-null  float64\n",
      " 12  Weather_conditions_Sunny          33378 non-null  float64\n",
      " 13  Weather_conditions_Windy          33378 non-null  float64\n",
      " 14  Road_traffic_density_High         33378 non-null  float64\n",
      " 15  Road_traffic_density_Jam          33378 non-null  float64\n",
      " 16  Road_traffic_density_Low          33378 non-null  float64\n",
      " 17  Road_traffic_density_Medium       33378 non-null  float64\n",
      " 18  Type_of_order_Buffet              33378 non-null  float64\n",
      " 19  Type_of_order_Drinks              33378 non-null  float64\n",
      " 20  Type_of_order_Meal                33378 non-null  float64\n",
      " 21  Type_of_order_Snack               33378 non-null  float64\n",
      " 22  Type_of_vehicle_electric_scooter  33378 non-null  float64\n",
      " 23  Type_of_vehicle_motorcycle        33378 non-null  float64\n",
      " 24  Type_of_vehicle_scooter           33378 non-null  float64\n",
      " 25  City_AGR                          33378 non-null  float64\n",
      " 26  City_ALH                          33378 non-null  float64\n",
      " 27  City_AURG                         33378 non-null  float64\n",
      " 28  City_BANG                         33378 non-null  float64\n",
      " 29  City_BHP                          33378 non-null  float64\n",
      " 30  City_CHEN                         33378 non-null  float64\n",
      " 31  City_COIMB                        33378 non-null  float64\n",
      " 32  City_DEH                          33378 non-null  float64\n",
      " 33  City_GOA                          33378 non-null  float64\n",
      " 34  City_HYD                          33378 non-null  float64\n",
      " 35  City_INDO                         33378 non-null  float64\n",
      " 36  City_JAP                          33378 non-null  float64\n",
      " 37  City_KNP                          33378 non-null  float64\n",
      " 38  City_KOC                          33378 non-null  float64\n",
      " 39  City_KOL                          33378 non-null  float64\n",
      " 40  City_LUDH                         33378 non-null  float64\n",
      " 41  City_MUM                          33378 non-null  float64\n",
      " 42  City_MYS                          33378 non-null  float64\n",
      " 43  City_PUNE                         33378 non-null  float64\n",
      " 44  City_RANCHI                       33378 non-null  float64\n",
      " 45  City_SUR                          33378 non-null  float64\n",
      " 46  City_VAD                          33378 non-null  float64\n",
      " 47  Time_of_Day_Ordered_Evening       33378 non-null  float64\n",
      " 48  Time_of_Day_Ordered_Morning       33378 non-null  float64\n",
      " 49  Time_of_Day_Ordered_Night         33378 non-null  float64\n",
      " 50  Month_Apr                         33378 non-null  float64\n",
      " 51  Month_Aug                         33378 non-null  float64\n",
      " 52  Month_Dec                         33378 non-null  float64\n",
      " 53  Month_Feb                         33378 non-null  float64\n",
      " 54  Month_Jan                         33378 non-null  float64\n",
      " 55  Month_Jul                         33378 non-null  float64\n",
      " 56  Month_Jun                         33378 non-null  float64\n",
      " 57  Month_Mar                         33378 non-null  float64\n",
      " 58  Month_May                         33378 non-null  float64\n",
      " 59  Month_Nov                         33378 non-null  float64\n",
      " 60  Month_Oct                         33378 non-null  float64\n",
      " 61  Month_Sep                         33378 non-null  float64\n",
      "dtypes: float64(59), int64(3)\n",
      "memory usage: 15.8 MB\n"
     ]
    }
   ],
   "source": [
    "df = pd.get_dummies(data_df, columns=cat_columns, dtype=float)\n",
    "df.info()"
   ]
  },
  {
   "cell_type": "code",
   "execution_count": 21,
   "id": "cf11d231",
   "metadata": {},
   "outputs": [],
   "source": [
    "X = df.drop(columns = 'Time_taken (min)')\n",
    "y = df[['Time_taken (min)']]"
   ]
  },
  {
   "cell_type": "code",
   "execution_count": 24,
   "id": "53ce8a57",
   "metadata": {},
   "outputs": [],
   "source": [
    "num_columns = list(X.columns)\n",
    "# num_columns\n",
    "\n",
    "# cat_columns = [x for x in X.columns if x not in num_columns]"
   ]
  },
  {
   "cell_type": "code",
   "execution_count": 25,
   "id": "75f010e6",
   "metadata": {},
   "outputs": [],
   "source": [
    "num_pipeline = Pipeline(\n",
    "    steps = [\n",
    "        (\"Imputer\", SimpleImputer(strategy = 'median')),\n",
    "        (\"Scaler\", StandardScaler(with_mean=False))\n",
    "    ]\n",
    ")\n",
    "\n",
    "# cat_pipeline = Pipeline(\n",
    "#     steps = [\n",
    "#         (\"Imputer\", SimpleImputer(strategy='most_frequent')),\n",
    "# #         (\"Encoder\", OneHotEncoder(sparse=False)),\n",
    "#         (\"Scaler\", StandardScaler(with_mean=False))\n",
    "#     ]\n",
    "# )"
   ]
  },
  {
   "cell_type": "code",
   "execution_count": 26,
   "id": "6d4fbe35",
   "metadata": {},
   "outputs": [],
   "source": [
    "preprocessor = ColumnTransformer(\n",
    "    [\n",
    "        (\"Numerical_Pipeline\", num_pipeline, num_columns),\n",
    "        # (\"Categorical_Pipeline\", cat_pipeline, cat_columns)\n",
    "    ]\n",
    ")"
   ]
  },
  {
   "cell_type": "code",
   "execution_count": 27,
   "id": "b5863ab3",
   "metadata": {},
   "outputs": [],
   "source": [
    "# Imports for Model Training and Preparation\n",
    "\n",
    "from sklearn.linear_model import LinearRegression, Ridge, Lasso, ElasticNet\n",
    "from sklearn.metrics import r2_score, mean_absolute_error, mean_squared_error\n",
    "from sklearn.model_selection import train_test_split"
   ]
  },
  {
   "cell_type": "code",
   "execution_count": 28,
   "id": "cbfdb5c0",
   "metadata": {},
   "outputs": [],
   "source": [
    "X_train, X_test, y_train, y_test = train_test_split(X, y, test_size=0.2, random_state=1)"
   ]
  },
  {
   "cell_type": "code",
   "execution_count": 29,
   "id": "f78f4bb3",
   "metadata": {},
   "outputs": [],
   "source": [
    "X_train = preprocessor.fit_transform(X_train)"
   ]
  },
  {
   "cell_type": "code",
   "execution_count": 30,
   "id": "9611e84b",
   "metadata": {},
   "outputs": [],
   "source": [
    "X_train = pd.DataFrame(data=X_train, columns = X.columns)"
   ]
  },
  {
   "cell_type": "code",
   "execution_count": 31,
   "id": "45fcc70b",
   "metadata": {},
   "outputs": [],
   "source": [
    "X_test = pd.DataFrame(preprocessor.transform(X_test), columns= X.columns)"
   ]
  },
  {
   "cell_type": "code",
   "execution_count": 32,
   "id": "48cd0060",
   "metadata": {},
   "outputs": [
    {
     "name": "stdout",
     "output_type": "stream",
     "text": [
      "Linear Regression\n",
      "\tRoot Mean Squared Error: 5.9783560522502786\n",
      "\tMean Absolute Error: 4.789572723187537\n",
      "\tTest R2 Score: 59.24%\n",
      "\tTrain R2 Score: 58.86%\n",
      "==================================================\n",
      "Lasso\n",
      "\tRoot Mean Squared Error: 6.653543257115567\n",
      "\tMean Absolute Error: 5.289722847902577\n",
      "\tTest R2 Score: 49.51%\n",
      "\tTrain R2 Score: 49.49%\n",
      "==================================================\n",
      "Ridge\n",
      "\tRoot Mean Squared Error: 5.970299033889638\n",
      "\tMean Absolute Error: 4.787124744593799\n",
      "\tTest R2 Score: 59.35%\n",
      "\tTrain R2 Score: 59.01%\n",
      "==================================================\n",
      "Elastic Net\n",
      "\tRoot Mean Squared Error: 6.638652651544121\n",
      "\tMean Absolute Error: 5.319650759413437\n",
      "\tTest R2 Score: 49.74%\n",
      "\tTrain R2 Score: 49.65%\n",
      "==================================================\n"
     ]
    }
   ],
   "source": [
    "models = {\n",
    "    'Linear Regression': LinearRegression(),\n",
    "    'Lasso': Lasso(),\n",
    "    'Ridge': Ridge(),\n",
    "    'Elastic Net': ElasticNet()\n",
    "}\n",
    "\n",
    "\n",
    "model_name = []\n",
    "model_score = []\n",
    "\n",
    "for key, value in models.items():\n",
    "    model = value\n",
    "    model.fit(X_train, y_train)\n",
    "    \n",
    "    y_pred = model.predict(X_test)\n",
    "    \n",
    "    test_score = r2_score(y_test, y_pred)\n",
    "    mae = mean_absolute_error(y_test, y_pred)\n",
    "    mse = mean_squared_error(y_test, y_pred)\n",
    "    rmse = np.sqrt(mse)\n",
    "    train_score = r2_score(y_train, model.predict(X_train))\n",
    "    \n",
    "    model_name.append(key)\n",
    "    model_score.append(test_score)\n",
    "    \n",
    "    print(key)\n",
    "    print(f\"\\tRoot Mean Squared Error: {rmse}\\n\\tMean Absolute Error: {mae}\\n\\tTest R2 Score: {round(test_score*100, 2)}%\\n\\tTrain R2 Score: {round(train_score*100, 2)}%\")\n",
    "    print(\"=\"*50)"
   ]
  },
  {
   "cell_type": "code",
   "execution_count": null,
   "id": "74228375",
   "metadata": {},
   "outputs": [],
   "source": []
  }
 ],
 "metadata": {
  "kernelspec": {
   "display_name": "Python 3 (ipykernel)",
   "language": "python",
   "name": "python3"
  },
  "language_info": {
   "codemirror_mode": {
    "name": "ipython",
    "version": 3
   },
   "file_extension": ".py",
   "mimetype": "text/x-python",
   "name": "python",
   "nbconvert_exporter": "python",
   "pygments_lexer": "ipython3",
   "version": "3.9.0"
  }
 },
 "nbformat": 4,
 "nbformat_minor": 5
}
