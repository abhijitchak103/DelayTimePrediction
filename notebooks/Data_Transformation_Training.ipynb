{
 "cells": [
  {
   "cell_type": "code",
   "execution_count": 1,
   "id": "39024c26",
   "metadata": {},
   "outputs": [],
   "source": [
    "import pandas as pd\n",
    "import numpy as np\n",
    "from sklearn.preprocessing import StandardScaler, OrdinalEncoder, OneHotEncoder\n",
    "from sklearn.impute import SimpleImputer\n",
    "from sklearn.pipeline import Pipeline\n",
    "from sklearn.compose import ColumnTransformer"
   ]
  },
  {
   "cell_type": "code",
   "execution_count": 2,
   "id": "aea9750c",
   "metadata": {},
   "outputs": [],
   "source": [
    "data_df = pd.read_csv('./data/data_cleaned.csv')"
   ]
  },
  {
   "cell_type": "code",
   "execution_count": 3,
   "id": "4e02363b",
   "metadata": {},
   "outputs": [
    {
     "data": {
      "text/html": [
       "<div>\n",
       "<style scoped>\n",
       "    .dataframe tbody tr th:only-of-type {\n",
       "        vertical-align: middle;\n",
       "    }\n",
       "\n",
       "    .dataframe tbody tr th {\n",
       "        vertical-align: top;\n",
       "    }\n",
       "\n",
       "    .dataframe thead th {\n",
       "        text-align: right;\n",
       "    }\n",
       "</style>\n",
       "<table border=\"1\" class=\"dataframe\">\n",
       "  <thead>\n",
       "    <tr style=\"text-align: right;\">\n",
       "      <th></th>\n",
       "      <th>Delivery_person_Age</th>\n",
       "      <th>Delivery_person_Ratings</th>\n",
       "      <th>Weather_conditions</th>\n",
       "      <th>Road_traffic_density</th>\n",
       "      <th>Vehicle_condition</th>\n",
       "      <th>Type_of_order</th>\n",
       "      <th>Type_of_vehicle</th>\n",
       "      <th>multiple_deliveries</th>\n",
       "      <th>Festival</th>\n",
       "      <th>City</th>\n",
       "      <th>Time_taken (min)</th>\n",
       "      <th>Delivery_distance</th>\n",
       "      <th>Time_to_pick</th>\n",
       "      <th>Day</th>\n",
       "      <th>Month</th>\n",
       "      <th>Time_of_Day_Ordered</th>\n",
       "    </tr>\n",
       "  </thead>\n",
       "  <tbody>\n",
       "    <tr>\n",
       "      <th>0</th>\n",
       "      <td>36.0</td>\n",
       "      <td>4.2</td>\n",
       "      <td>Fog</td>\n",
       "      <td>Jam</td>\n",
       "      <td>2</td>\n",
       "      <td>Snack</td>\n",
       "      <td>motorcycle</td>\n",
       "      <td>3.0</td>\n",
       "      <td>No</td>\n",
       "      <td>DEH</td>\n",
       "      <td>46</td>\n",
       "      <td>10.28</td>\n",
       "      <td>15.0</td>\n",
       "      <td>2</td>\n",
       "      <td>12</td>\n",
       "      <td>Night</td>\n",
       "    </tr>\n",
       "    <tr>\n",
       "      <th>1</th>\n",
       "      <td>21.0</td>\n",
       "      <td>4.7</td>\n",
       "      <td>Stormy</td>\n",
       "      <td>High</td>\n",
       "      <td>1</td>\n",
       "      <td>Meal</td>\n",
       "      <td>motorcycle</td>\n",
       "      <td>1.0</td>\n",
       "      <td>No</td>\n",
       "      <td>KOC</td>\n",
       "      <td>23</td>\n",
       "      <td>6.24</td>\n",
       "      <td>9.6</td>\n",
       "      <td>13</td>\n",
       "      <td>2</td>\n",
       "      <td>Evening</td>\n",
       "    </tr>\n",
       "    <tr>\n",
       "      <th>2</th>\n",
       "      <td>23.0</td>\n",
       "      <td>4.7</td>\n",
       "      <td>Sandstorms</td>\n",
       "      <td>Medium</td>\n",
       "      <td>1</td>\n",
       "      <td>Drinks</td>\n",
       "      <td>scooter</td>\n",
       "      <td>1.0</td>\n",
       "      <td>No</td>\n",
       "      <td>PUNE</td>\n",
       "      <td>21</td>\n",
       "      <td>13.79</td>\n",
       "      <td>10.2</td>\n",
       "      <td>3</td>\n",
       "      <td>4</td>\n",
       "      <td>Evening</td>\n",
       "    </tr>\n",
       "    <tr>\n",
       "      <th>3</th>\n",
       "      <td>34.0</td>\n",
       "      <td>4.3</td>\n",
       "      <td>Sandstorms</td>\n",
       "      <td>Low</td>\n",
       "      <td>0</td>\n",
       "      <td>Buffet</td>\n",
       "      <td>motorcycle</td>\n",
       "      <td>0.0</td>\n",
       "      <td>No</td>\n",
       "      <td>LUDH</td>\n",
       "      <td>20</td>\n",
       "      <td>2.93</td>\n",
       "      <td>10.2</td>\n",
       "      <td>13</td>\n",
       "      <td>2</td>\n",
       "      <td>Morning</td>\n",
       "    </tr>\n",
       "    <tr>\n",
       "      <th>4</th>\n",
       "      <td>24.0</td>\n",
       "      <td>4.7</td>\n",
       "      <td>Fog</td>\n",
       "      <td>Jam</td>\n",
       "      <td>1</td>\n",
       "      <td>Snack</td>\n",
       "      <td>scooter</td>\n",
       "      <td>1.0</td>\n",
       "      <td>No</td>\n",
       "      <td>KNP</td>\n",
       "      <td>41</td>\n",
       "      <td>19.40</td>\n",
       "      <td>15.0</td>\n",
       "      <td>14</td>\n",
       "      <td>2</td>\n",
       "      <td>Night</td>\n",
       "    </tr>\n",
       "  </tbody>\n",
       "</table>\n",
       "</div>"
      ],
      "text/plain": [
       "   Delivery_person_Age  Delivery_person_Ratings Weather_conditions  \\\n",
       "0                 36.0                      4.2                Fog   \n",
       "1                 21.0                      4.7             Stormy   \n",
       "2                 23.0                      4.7         Sandstorms   \n",
       "3                 34.0                      4.3         Sandstorms   \n",
       "4                 24.0                      4.7                Fog   \n",
       "\n",
       "  Road_traffic_density  Vehicle_condition Type_of_order Type_of_vehicle  \\\n",
       "0                  Jam                  2         Snack      motorcycle   \n",
       "1                 High                  1          Meal      motorcycle   \n",
       "2               Medium                  1        Drinks         scooter   \n",
       "3                  Low                  0        Buffet      motorcycle   \n",
       "4                  Jam                  1         Snack         scooter   \n",
       "\n",
       "   multiple_deliveries Festival  City  Time_taken (min)  Delivery_distance  \\\n",
       "0                  3.0       No   DEH                46              10.28   \n",
       "1                  1.0       No   KOC                23               6.24   \n",
       "2                  1.0       No  PUNE                21              13.79   \n",
       "3                  0.0       No  LUDH                20               2.93   \n",
       "4                  1.0       No   KNP                41              19.40   \n",
       "\n",
       "   Time_to_pick  Day  Month Time_of_Day_Ordered  \n",
       "0          15.0    2     12               Night  \n",
       "1           9.6   13      2             Evening  \n",
       "2          10.2    3      4             Evening  \n",
       "3          10.2   13      2             Morning  \n",
       "4          15.0   14      2               Night  "
      ]
     },
     "execution_count": 3,
     "metadata": {},
     "output_type": "execute_result"
    }
   ],
   "source": [
    "data_df.head()"
   ]
  },
  {
   "cell_type": "code",
   "execution_count": 4,
   "id": "2cd9b22d",
   "metadata": {},
   "outputs": [],
   "source": [
    "data_df.drop(columns = 'Day', axis = 1, inplace = True)"
   ]
  },
  {
   "cell_type": "markdown",
   "id": "70f46feb",
   "metadata": {},
   "source": [
    "One Hot Encode the categorical features as they do not have any inherent ordinality."
   ]
  },
  {
   "cell_type": "code",
   "execution_count": 5,
   "id": "fc763559",
   "metadata": {},
   "outputs": [
    {
     "data": {
      "text/plain": [
       "array(['No', 'Yes'], dtype=object)"
      ]
     },
     "execution_count": 5,
     "metadata": {},
     "output_type": "execute_result"
    }
   ],
   "source": [
    "data_df.Festival.unique()"
   ]
  },
  {
   "cell_type": "code",
   "execution_count": 6,
   "id": "43dc36bc",
   "metadata": {
    "scrolled": true
   },
   "outputs": [],
   "source": [
    "festival = {'No': 0, 'Yes': 1}\n",
    "months = {1: 'Jan',\n",
    "          2: 'Feb',\n",
    "          3: 'Mar',\n",
    "          4: 'Apr',\n",
    "          5: 'May',\n",
    "          6: 'Jun',\n",
    "          7: 'Jul',\n",
    "          8: 'Aug',\n",
    "          9: 'Sep',\n",
    "          10: 'Oct',\n",
    "          11: 'Nov',\n",
    "          12: 'Dec'}\n",
    "\n",
    "data_df.replace({\"Festival\": festival}, inplace=True)\n",
    "data_df.replace({\"Month\": months}, inplace=True)"
   ]
  },
  {
   "cell_type": "code",
   "execution_count": 7,
   "id": "2468f473",
   "metadata": {},
   "outputs": [
    {
     "name": "stdout",
     "output_type": "stream",
     "text": [
      "<class 'pandas.core.frame.DataFrame'>\n",
      "RangeIndex: 33378 entries, 0 to 33377\n",
      "Data columns (total 15 columns):\n",
      " #   Column                   Non-Null Count  Dtype  \n",
      "---  ------                   --------------  -----  \n",
      " 0   Delivery_person_Age      33378 non-null  float64\n",
      " 1   Delivery_person_Ratings  33378 non-null  float64\n",
      " 2   Weather_conditions       33378 non-null  object \n",
      " 3   Road_traffic_density     33378 non-null  object \n",
      " 4   Vehicle_condition        33378 non-null  int64  \n",
      " 5   Type_of_order            33378 non-null  object \n",
      " 6   Type_of_vehicle          33378 non-null  object \n",
      " 7   multiple_deliveries      33378 non-null  float64\n",
      " 8   Festival                 33378 non-null  int64  \n",
      " 9   City                     33378 non-null  object \n",
      " 10  Time_taken (min)         33378 non-null  int64  \n",
      " 11  Delivery_distance        33378 non-null  float64\n",
      " 12  Time_to_pick             33378 non-null  float64\n",
      " 13  Month                    33378 non-null  object \n",
      " 14  Time_of_Day_Ordered      33378 non-null  object \n",
      "dtypes: float64(5), int64(3), object(7)\n",
      "memory usage: 3.8+ MB\n"
     ]
    }
   ],
   "source": [
    "data_df.info()"
   ]
  },
  {
   "cell_type": "code",
   "execution_count": 8,
   "id": "c20a3cbf",
   "metadata": {},
   "outputs": [],
   "source": [
    "num_columns = ['Delivery_person_Age', 'Delivery_person_Ratings', 'Vehicle_condition', 'Festival',\n",
    "               'multiple_deliveries', 'Delivery_distance', 'Time_to_pick']\n",
    "\n",
    "cat_columns = ['Weather_conditions', 'Road_traffic_density', 'Type_of_order', \n",
    "              'Type_of_vehicle', 'City', 'Time_of_Day_Ordered', 'Month']"
   ]
  },
  {
   "cell_type": "code",
   "execution_count": 25,
   "id": "5597e597",
   "metadata": {},
   "outputs": [
    {
     "data": {
      "text/plain": [
       "Index(['Delivery_person_Age', 'Delivery_person_Ratings', 'Vehicle_condition',\n",
       "       'multiple_deliveries', 'Festival', 'Time_taken (min)',\n",
       "       'Delivery_distance', 'Time_to_pick', 'Weather_conditions_Cloudy',\n",
       "       'Weather_conditions_Fog', 'Weather_conditions_Sandstorms',\n",
       "       'Weather_conditions_Stormy', 'Weather_conditions_Sunny',\n",
       "       'Weather_conditions_Windy', 'Road_traffic_density_High',\n",
       "       'Road_traffic_density_Jam', 'Road_traffic_density_Low',\n",
       "       'Road_traffic_density_Medium', 'Type_of_order_Buffet',\n",
       "       'Type_of_order_Drinks', 'Type_of_order_Meal', 'Type_of_order_Snack',\n",
       "       'Type_of_vehicle_electric_scooter', 'Type_of_vehicle_motorcycle',\n",
       "       'Type_of_vehicle_scooter', 'City_AGR', 'City_ALH', 'City_AURG',\n",
       "       'City_BANG', 'City_BHP', 'City_CHEN', 'City_COIMB', 'City_DEH',\n",
       "       'City_GOA', 'City_HYD', 'City_INDO', 'City_JAP', 'City_KNP', 'City_KOC',\n",
       "       'City_KOL', 'City_LUDH', 'City_MUM', 'City_MYS', 'City_PUNE',\n",
       "       'City_RANCHI', 'City_SUR', 'City_VAD', 'Time_of_Day_Ordered_Evening',\n",
       "       'Time_of_Day_Ordered_Morning', 'Time_of_Day_Ordered_Night', 'Month_Apr',\n",
       "       'Month_Aug', 'Month_Dec', 'Month_Feb', 'Month_Jan', 'Month_Jul',\n",
       "       'Month_Jun', 'Month_Mar', 'Month_May', 'Month_Nov', 'Month_Oct',\n",
       "       'Month_Sep'],\n",
       "      dtype='object')"
      ]
     },
     "execution_count": 25,
     "metadata": {},
     "output_type": "execute_result"
    }
   ],
   "source": [
    "df = pd.get_dummies(data_df, columns=cat_columns)\n",
    "df.columns"
   ]
  },
  {
   "cell_type": "code",
   "execution_count": 26,
   "id": "cf11d231",
   "metadata": {},
   "outputs": [],
   "source": [
    "X = df.drop(columns = 'Time_taken (min)')\n",
    "y = df[['Time_taken (min)']]"
   ]
  },
  {
   "cell_type": "code",
   "execution_count": 33,
   "id": "53ce8a57",
   "metadata": {},
   "outputs": [],
   "source": [
    "num_columns = ['Delivery_person_Age', 'Delivery_person_Ratings', 'Vehicle_condition', 'Festival',\n",
    "               'multiple_deliveries', 'Delivery_distance', 'Time_to_pick']\n",
    "\n",
    "cat_columns = [x for x in X.columns if x not in num_columns]"
   ]
  },
  {
   "cell_type": "code",
   "execution_count": 34,
   "id": "11c97973",
   "metadata": {},
   "outputs": [
    {
     "data": {
      "text/plain": [
       "True"
      ]
     },
     "execution_count": 34,
     "metadata": {},
     "output_type": "execute_result"
    }
   ],
   "source": [
    "len(X.columns) == (len(num_columns) + len(cat_columns))"
   ]
  },
  {
   "cell_type": "code",
   "execution_count": 35,
   "id": "75f010e6",
   "metadata": {},
   "outputs": [],
   "source": [
    "num_pipeline = Pipeline(\n",
    "    steps = [\n",
    "        (\"Imputer\", SimpleImputer(strategy = 'median')),\n",
    "        (\"Scaler\", StandardScaler(with_mean=False))\n",
    "    ]\n",
    ")\n",
    "\n",
    "cat_pipeline = Pipeline(\n",
    "    steps = [\n",
    "        (\"Imputer\", SimpleImputer(strategy='most_frequent')),\n",
    "#         (\"Encoder\", OneHotEncoder(sparse=False)),\n",
    "        (\"Scaler\", StandardScaler(with_mean=False))\n",
    "    ]\n",
    ")"
   ]
  },
  {
   "cell_type": "code",
   "execution_count": 36,
   "id": "6d4fbe35",
   "metadata": {},
   "outputs": [],
   "source": [
    "preprocessor = ColumnTransformer(\n",
    "    [\n",
    "        (\"Numerical_Pipeline\", num_pipeline, num_columns),\n",
    "        (\"Categorical_Pipeline\", cat_pipeline, cat_columns)\n",
    "    ]\n",
    ")"
   ]
  },
  {
   "cell_type": "code",
   "execution_count": 37,
   "id": "b5863ab3",
   "metadata": {},
   "outputs": [],
   "source": [
    "# Imports for Model Training and Preparation\n",
    "\n",
    "from sklearn.linear_model import LinearRegression, Ridge, Lasso, ElasticNet\n",
    "from sklearn.metrics import r2_score, mean_absolute_error, mean_squared_error\n",
    "from sklearn.model_selection import train_test_split"
   ]
  },
  {
   "cell_type": "code",
   "execution_count": 38,
   "id": "cbfdb5c0",
   "metadata": {},
   "outputs": [],
   "source": [
    "X_train, X_test, y_train, y_test = train_test_split(X, y, test_size=0.2, random_state=1)"
   ]
  },
  {
   "cell_type": "code",
   "execution_count": 39,
   "id": "f78f4bb3",
   "metadata": {},
   "outputs": [
    {
     "name": "stderr",
     "output_type": "stream",
     "text": [
      "C:\\Users\\Abhijit\\anaconda3\\lib\\site-packages\\sklearn\\impute\\_base.py:49: FutureWarning: Unlike other reduction functions (e.g. `skew`, `kurtosis`), the default behavior of `mode` typically preserves the axis it acts along. In SciPy 1.11.0, this behavior will change: the default value of `keepdims` will become False, the `axis` over which the statistic is taken will be eliminated, and the value None will no longer be accepted. Set `keepdims` to True or False to avoid this warning.\n",
      "  mode = stats.mode(array)\n"
     ]
    }
   ],
   "source": [
    "X_train = preprocessor.fit_transform(X_train)"
   ]
  },
  {
   "cell_type": "code",
   "execution_count": 42,
   "id": "9611e84b",
   "metadata": {},
   "outputs": [],
   "source": [
    "X_train = pd.DataFrame(data=X_train, columns = X.columns)"
   ]
  },
  {
   "cell_type": "code",
   "execution_count": 43,
   "id": "45fcc70b",
   "metadata": {},
   "outputs": [],
   "source": [
    "X_test = pd.DataFrame(preprocessor.transform(X_test), columns= X.columns)"
   ]
  },
  {
   "cell_type": "code",
   "execution_count": 51,
   "id": "48cd0060",
   "metadata": {},
   "outputs": [
    {
     "name": "stdout",
     "output_type": "stream",
     "text": [
      "Linear Regression\n",
      "\tRoot Mean Squared Error: 5.970348644737292\n",
      "\tMean Absolute Error: 4.7873141664170165\n",
      "\tTest R2 Score: 59.35%\n",
      "\tTrain R2 Score: 59.01%\n",
      "==================================================\n",
      "Lasso\n",
      "\tRoot Mean Squared Error: 6.653543459920459\n",
      "\tMean Absolute Error: 5.289723000511323\n",
      "\tTest R2 Score: 49.51%\n",
      "\tTrain R2 Score: 49.49%\n",
      "==================================================\n",
      "Ridge\n",
      "\tRoot Mean Squared Error: 5.970299033889638\n",
      "\tMean Absolute Error: 4.787124744593799\n",
      "\tTest R2 Score: 59.35%\n",
      "\tTrain R2 Score: 59.01%\n",
      "==================================================\n",
      "Elastic Net\n",
      "\tRoot Mean Squared Error: 6.638652576199908\n",
      "\tMean Absolute Error: 5.319650674248265\n",
      "\tTest R2 Score: 49.74%\n",
      "\tTrain R2 Score: 49.65%\n",
      "==================================================\n"
     ]
    }
   ],
   "source": [
    "models = {\n",
    "    'Linear Regression': LinearRegression(),\n",
    "    'Lasso': Lasso(),\n",
    "    'Ridge': Ridge(),\n",
    "    'Elastic Net': ElasticNet()\n",
    "}\n",
    "\n",
    "\n",
    "model_name = []\n",
    "model_score = []\n",
    "\n",
    "for key, value in models.items():\n",
    "    model = value\n",
    "    model.fit(X_train, y_train)\n",
    "    \n",
    "    y_pred = model.predict(X_test)\n",
    "    \n",
    "    test_score = r2_score(y_test, y_pred)\n",
    "    mae = mean_absolute_error(y_test, y_pred)\n",
    "    mse = mean_squared_error(y_test, y_pred)\n",
    "    rmse = np.sqrt(mse)\n",
    "    train_score = r2_score(y_train, model.predict(X_train))\n",
    "    \n",
    "    model_name.append(key)\n",
    "    model_score.append(test_score)\n",
    "    \n",
    "    print(key)\n",
    "    print(f\"\\tRoot Mean Squared Error: {rmse}\\n\\tMean Absolute Error: {mae}\\n\\tTest R2 Score: {round(test_score*100, 2)}%\\n\\tTrain R2 Score: {round(train_score*100, 2)}%\")\n",
    "    print(\"=\"*50)"
   ]
  },
  {
   "cell_type": "code",
   "execution_count": null,
   "id": "74228375",
   "metadata": {},
   "outputs": [],
   "source": []
  }
 ],
 "metadata": {
  "kernelspec": {
   "display_name": "Python 3 (ipykernel)",
   "language": "python",
   "name": "python3"
  },
  "language_info": {
   "codemirror_mode": {
    "name": "ipython",
    "version": 3
   },
   "file_extension": ".py",
   "mimetype": "text/x-python",
   "name": "python",
   "nbconvert_exporter": "python",
   "pygments_lexer": "ipython3",
   "version": "3.9.13"
  }
 },
 "nbformat": 4,
 "nbformat_minor": 5
}
